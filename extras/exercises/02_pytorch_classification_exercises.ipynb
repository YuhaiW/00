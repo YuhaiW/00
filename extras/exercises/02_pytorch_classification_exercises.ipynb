{
  "nbformat": 4,
  "nbformat_minor": 0,
  "metadata": {
    "colab": {
      "name": "02_pytorch_classification_exercises.ipynb",
      "provenance": [],
      "include_colab_link": true
    },
    "kernelspec": {
      "name": "python3",
      "display_name": "Python 3"
    },
    "language_info": {
      "name": "python"
    },
    "accelerator": "GPU",
    "gpuClass": "standard"
  },
  "cells": [
    {
      "cell_type": "markdown",
      "metadata": {
        "id": "view-in-github",
        "colab_type": "text"
      },
      "source": [
        "<a href=\"https://colab.research.google.com/github/YuhaiW/00/blob/main/extras/exercises/02_pytorch_classification_exercises.ipynb\" target=\"_parent\"><img src=\"https://colab.research.google.com/assets/colab-badge.svg\" alt=\"Open In Colab\"/></a>"
      ]
    },
    {
      "cell_type": "markdown",
      "source": [
        "# 02. PyTorch Classification Exercises\n",
        "\n",
        "The following is a template for 02. PyTorch Classification exercises.\n",
        "\n",
        "It's only starter code and it's your job to fill in the blanks.\n",
        "\n",
        "Because of the flexibility of PyTorch, there may be more than one way to answer the question.\n",
        "\n",
        "Don't worry about trying to be *right* just try writing code that suffices the question.\n",
        "\n",
        "## Resources\n",
        "* These exercises are based on [notebook 02 of the learn PyTorch course](https://www.learnpytorch.io/02_pytorch_classification/).\n",
        "* You can see one form of [solutions on GitHub](https://github.com/mrdbourke/pytorch-deep-learning/tree/main/extras/solutions) (but try the exercises below yourself first!)."
      ],
      "metadata": {
        "id": "ZKJFt7YxH8yl"
      }
    },
    {
      "cell_type": "code",
      "source": [
        "# Import torch\n",
        "import torch\n",
        "\n",
        "# Setup device agnostic code\n",
        "device = \"cuda\" if torch.cuda.is_available() else \"cpu\"\n",
        "\n",
        "# Setup random seed\n",
        "RANDOM_SEED = 42\n",
        "\n",
        "device"
      ],
      "metadata": {
        "id": "CSrUPgapO0tf",
        "outputId": "99f33bd2-ef91-4fa7-a236-5900a0a2755f",
        "colab": {
          "base_uri": "https://localhost:8080/",
          "height": 35
        }
      },
      "execution_count": 9,
      "outputs": [
        {
          "output_type": "execute_result",
          "data": {
            "text/plain": [
              "'cuda'"
            ],
            "application/vnd.google.colaboratory.intrinsic+json": {
              "type": "string"
            }
          },
          "metadata": {},
          "execution_count": 9
        }
      ]
    },
    {
      "cell_type": "markdown",
      "source": [
        "## 1. Make a binary classification dataset with Scikit-Learn's [`make_moons()`](https://scikit-learn.org/stable/modules/generated/sklearn.datasets.make_moons.html) function.\n",
        "  * For consistency, the dataset should have 1000 samples and a `random_state=42`.\n",
        "  * Turn the data into PyTorch tensors. \n",
        "  * Split the data into training and test sets using `train_test_split` with 80% training and 20% testing."
      ],
      "metadata": {
        "id": "pH7jIZ2SPFee"
      }
    },
    {
      "cell_type": "code",
      "source": [
        "# Create a dataset with Scikit-Learn's make_moons()\n",
        "from sklearn.datasets import make_moons\n",
        "random_state = 42\n",
        "X, y = make_moons(n_samples=1000, shuffle=True, noise=0.1, random_state=None)"
      ],
      "metadata": {
        "id": "5t4VhPV1PX1X"
      },
      "execution_count": 127,
      "outputs": []
    },
    {
      "cell_type": "code",
      "source": [
        "# Turn data into a DataFrame\n",
        "import pandas as pd\n",
        "data_set = pd.DataFrame({\"X1\": X[:,0],\n",
        "                        \"X2\": X[:,1],\n",
        "                        \"y\": y})\n",
        "\n",
        "data_set.head(10)"
      ],
      "metadata": {
        "id": "SUeHZ3-3P9C7",
        "outputId": "24146561-cb28-4de2-9bdb-9a9fa0261ae9",
        "colab": {
          "base_uri": "https://localhost:8080/",
          "height": 363
        }
      },
      "execution_count": 128,
      "outputs": [
        {
          "output_type": "execute_result",
          "data": {
            "text/plain": [
              "         X1        X2  y\n",
              "0  1.825135 -0.247154  1\n",
              "1  0.559341 -0.483326  1\n",
              "2  1.194408 -0.456984  1\n",
              "3  0.639075 -0.488490  1\n",
              "4 -0.433741  0.904984  0\n",
              "5  1.952072  0.016732  1\n",
              "6  1.971260  0.027264  1\n",
              "7  0.857614 -0.418658  1\n",
              "8  0.768328  0.477922  0\n",
              "9  0.706699 -0.520148  1"
            ],
            "text/html": [
              "\n",
              "  <div id=\"df-1576a9ec-6dfe-4f3f-becd-a196493f914b\">\n",
              "    <div class=\"colab-df-container\">\n",
              "      <div>\n",
              "<style scoped>\n",
              "    .dataframe tbody tr th:only-of-type {\n",
              "        vertical-align: middle;\n",
              "    }\n",
              "\n",
              "    .dataframe tbody tr th {\n",
              "        vertical-align: top;\n",
              "    }\n",
              "\n",
              "    .dataframe thead th {\n",
              "        text-align: right;\n",
              "    }\n",
              "</style>\n",
              "<table border=\"1\" class=\"dataframe\">\n",
              "  <thead>\n",
              "    <tr style=\"text-align: right;\">\n",
              "      <th></th>\n",
              "      <th>X1</th>\n",
              "      <th>X2</th>\n",
              "      <th>y</th>\n",
              "    </tr>\n",
              "  </thead>\n",
              "  <tbody>\n",
              "    <tr>\n",
              "      <th>0</th>\n",
              "      <td>1.825135</td>\n",
              "      <td>-0.247154</td>\n",
              "      <td>1</td>\n",
              "    </tr>\n",
              "    <tr>\n",
              "      <th>1</th>\n",
              "      <td>0.559341</td>\n",
              "      <td>-0.483326</td>\n",
              "      <td>1</td>\n",
              "    </tr>\n",
              "    <tr>\n",
              "      <th>2</th>\n",
              "      <td>1.194408</td>\n",
              "      <td>-0.456984</td>\n",
              "      <td>1</td>\n",
              "    </tr>\n",
              "    <tr>\n",
              "      <th>3</th>\n",
              "      <td>0.639075</td>\n",
              "      <td>-0.488490</td>\n",
              "      <td>1</td>\n",
              "    </tr>\n",
              "    <tr>\n",
              "      <th>4</th>\n",
              "      <td>-0.433741</td>\n",
              "      <td>0.904984</td>\n",
              "      <td>0</td>\n",
              "    </tr>\n",
              "    <tr>\n",
              "      <th>5</th>\n",
              "      <td>1.952072</td>\n",
              "      <td>0.016732</td>\n",
              "      <td>1</td>\n",
              "    </tr>\n",
              "    <tr>\n",
              "      <th>6</th>\n",
              "      <td>1.971260</td>\n",
              "      <td>0.027264</td>\n",
              "      <td>1</td>\n",
              "    </tr>\n",
              "    <tr>\n",
              "      <th>7</th>\n",
              "      <td>0.857614</td>\n",
              "      <td>-0.418658</td>\n",
              "      <td>1</td>\n",
              "    </tr>\n",
              "    <tr>\n",
              "      <th>8</th>\n",
              "      <td>0.768328</td>\n",
              "      <td>0.477922</td>\n",
              "      <td>0</td>\n",
              "    </tr>\n",
              "    <tr>\n",
              "      <th>9</th>\n",
              "      <td>0.706699</td>\n",
              "      <td>-0.520148</td>\n",
              "      <td>1</td>\n",
              "    </tr>\n",
              "  </tbody>\n",
              "</table>\n",
              "</div>\n",
              "      <button class=\"colab-df-convert\" onclick=\"convertToInteractive('df-1576a9ec-6dfe-4f3f-becd-a196493f914b')\"\n",
              "              title=\"Convert this dataframe to an interactive table.\"\n",
              "              style=\"display:none;\">\n",
              "        \n",
              "  <svg xmlns=\"http://www.w3.org/2000/svg\" height=\"24px\"viewBox=\"0 0 24 24\"\n",
              "       width=\"24px\">\n",
              "    <path d=\"M0 0h24v24H0V0z\" fill=\"none\"/>\n",
              "    <path d=\"M18.56 5.44l.94 2.06.94-2.06 2.06-.94-2.06-.94-.94-2.06-.94 2.06-2.06.94zm-11 1L8.5 8.5l.94-2.06 2.06-.94-2.06-.94L8.5 2.5l-.94 2.06-2.06.94zm10 10l.94 2.06.94-2.06 2.06-.94-2.06-.94-.94-2.06-.94 2.06-2.06.94z\"/><path d=\"M17.41 7.96l-1.37-1.37c-.4-.4-.92-.59-1.43-.59-.52 0-1.04.2-1.43.59L10.3 9.45l-7.72 7.72c-.78.78-.78 2.05 0 2.83L4 21.41c.39.39.9.59 1.41.59.51 0 1.02-.2 1.41-.59l7.78-7.78 2.81-2.81c.8-.78.8-2.07 0-2.86zM5.41 20L4 18.59l7.72-7.72 1.47 1.35L5.41 20z\"/>\n",
              "  </svg>\n",
              "      </button>\n",
              "      \n",
              "  <style>\n",
              "    .colab-df-container {\n",
              "      display:flex;\n",
              "      flex-wrap:wrap;\n",
              "      gap: 12px;\n",
              "    }\n",
              "\n",
              "    .colab-df-convert {\n",
              "      background-color: #E8F0FE;\n",
              "      border: none;\n",
              "      border-radius: 50%;\n",
              "      cursor: pointer;\n",
              "      display: none;\n",
              "      fill: #1967D2;\n",
              "      height: 32px;\n",
              "      padding: 0 0 0 0;\n",
              "      width: 32px;\n",
              "    }\n",
              "\n",
              "    .colab-df-convert:hover {\n",
              "      background-color: #E2EBFA;\n",
              "      box-shadow: 0px 1px 2px rgba(60, 64, 67, 0.3), 0px 1px 3px 1px rgba(60, 64, 67, 0.15);\n",
              "      fill: #174EA6;\n",
              "    }\n",
              "\n",
              "    [theme=dark] .colab-df-convert {\n",
              "      background-color: #3B4455;\n",
              "      fill: #D2E3FC;\n",
              "    }\n",
              "\n",
              "    [theme=dark] .colab-df-convert:hover {\n",
              "      background-color: #434B5C;\n",
              "      box-shadow: 0px 1px 3px 1px rgba(0, 0, 0, 0.15);\n",
              "      filter: drop-shadow(0px 1px 2px rgba(0, 0, 0, 0.3));\n",
              "      fill: #FFFFFF;\n",
              "    }\n",
              "  </style>\n",
              "\n",
              "      <script>\n",
              "        const buttonEl =\n",
              "          document.querySelector('#df-1576a9ec-6dfe-4f3f-becd-a196493f914b button.colab-df-convert');\n",
              "        buttonEl.style.display =\n",
              "          google.colab.kernel.accessAllowed ? 'block' : 'none';\n",
              "\n",
              "        async function convertToInteractive(key) {\n",
              "          const element = document.querySelector('#df-1576a9ec-6dfe-4f3f-becd-a196493f914b');\n",
              "          const dataTable =\n",
              "            await google.colab.kernel.invokeFunction('convertToInteractive',\n",
              "                                                     [key], {});\n",
              "          if (!dataTable) return;\n",
              "\n",
              "          const docLinkHtml = 'Like what you see? Visit the ' +\n",
              "            '<a target=\"_blank\" href=https://colab.research.google.com/notebooks/data_table.ipynb>data table notebook</a>'\n",
              "            + ' to learn more about interactive tables.';\n",
              "          element.innerHTML = '';\n",
              "          dataTable['output_type'] = 'display_data';\n",
              "          await google.colab.output.renderOutput(dataTable, element);\n",
              "          const docLink = document.createElement('div');\n",
              "          docLink.innerHTML = docLinkHtml;\n",
              "          element.appendChild(docLink);\n",
              "        }\n",
              "      </script>\n",
              "    </div>\n",
              "  </div>\n",
              "  "
            ]
          },
          "metadata": {},
          "execution_count": 128
        }
      ]
    },
    {
      "cell_type": "code",
      "source": [
        "# Visualize the data on a scatter plot\n",
        "import matplotlib.pyplot as plt\n",
        "\n",
        "plt.scatter(data_set.X1, data_set.X2, c = data_set.y)\n",
        "plt.show()"
      ],
      "metadata": {
        "id": "owrkPSFvQPFI",
        "outputId": "cb56ca9f-ef1a-44d2-ee86-cfbefe14ea1a",
        "colab": {
          "base_uri": "https://localhost:8080/",
          "height": 265
        }
      },
      "execution_count": 129,
      "outputs": [
        {
          "output_type": "display_data",
          "data": {
            "text/plain": [
              "<Figure size 432x288 with 1 Axes>"
            ],
            "image/png": "[encoded data removed]"
          },
          "metadata": {
            "needs_background": "light"
          }
        }
      ]
    },
    {
      "cell_type": "code",
      "source": [
        "X.shape, y.shape"
      ],
      "metadata": {
        "id": "aAzSSMu5E_58",
        "outputId": "117007e6-3f33-4d2e-a377-1848fa6deb63",
        "colab": {
          "base_uri": "https://localhost:8080/",
          "height": 0
        }
      },
      "execution_count": 130,
      "outputs": [
        {
          "output_type": "execute_result",
          "data": {
            "text/plain": [
              "((1000, 2), (1000,))"
            ]
          },
          "metadata": {},
          "execution_count": 130
        }
      ]
    },
    {
      "cell_type": "code",
      "source": [
        "\n",
        "import torch\n",
        "import torch.nn.functional as F\n",
        "from torch.autograd import Variable\n",
        "import matplotlib.pyplot as plt"
      ],
      "metadata": {
        "id": "4DO9xfZ9xheH"
      },
      "execution_count": 10,
      "outputs": []
    },
    {
      "cell_type": "code",
      "source": [
        "# Turn data into tensors of dtype float\n",
        "X = torch.from_numpy(X).type(torch.float)\n",
        "y = torch.from_numpy(y).type(torch.float)\n",
        "\n",
        "# Split the data into train and test sets (80% train, 20% test)\n",
        "from sklearn.model_selection import train_test_split\n",
        "X_train, X_test, y_train, y_test = train_test_split(X, \n",
        "                                                    y, \n",
        "                                                    test_size=0.2, # 20% test, 80% train\n",
        "                                                    random_state=42) # make the random split reproducible\n",
        "\n",
        "len(X_train), len(X_test), len(y_train), len(y_test)"
      ],
      "metadata": {
        "id": "bDhyHn9fR4dq",
        "outputId": "5c085157-af1f-4052-94c6-bdc17d63475f",
        "colab": {
          "base_uri": "https://localhost:8080/",
          "height": 0
        }
      },
      "execution_count": 131,
      "outputs": [
        {
          "output_type": "execute_result",
          "data": {
            "text/plain": [
              "(800, 200, 800, 200)"
            ]
          },
          "metadata": {},
          "execution_count": 131
        }
      ]
    },
    {
      "cell_type": "markdown",
      "source": [
        "## 2. Build a model by subclassing `nn.Module` that incorporates non-linear activation functions and is capable of fitting the data you created in 1.\n",
        "  * Feel free to use any combination of PyTorch layers (linear and non-linear) you want."
      ],
      "metadata": {
        "id": "cMIjxZdzQfPz"
      }
    },
    {
      "cell_type": "code",
      "source": [
        "import torch\n",
        "from torch import nn\n",
        "\n",
        "# Inherit from nn.Module to make a model capable of fitting the mooon data\n",
        "class MoonModelV0(nn.Module):\n",
        "    ## Your code here ##\n",
        "    def __init__(self):\n",
        "      super().__init__()\n",
        "      self.layer1 = nn.Linear(in_features = 2, out_features = 50)\n",
        "      self.layer2 = nn.ReLU()\n",
        "      self.layer3 = nn.Linear(in_features = 50, out_features = 100)\n",
        "      self.layer4 = nn.Sigmoid()\n",
        "      self.layer5 = nn.Linear(in_features = 100, out_features = 1)\n",
        "      #self.layer3 = nn.ReLU()\n",
        "\n",
        "    def forward(self, x):\n",
        "        ## Your code here ##\n",
        "        return  self.layer5(self.layer4(self.layer3(self.layer2(self.layer1(x)))))\n",
        "\n",
        "# Instantiate the model\n",
        "my_model1 = MoonModelV0().to(device)\n",
        "## Your code here ##"
      ],
      "metadata": {
        "id": "hwtyvm34Ri6Q"
      },
      "execution_count": 132,
      "outputs": []
    },
    {
      "cell_type": "code",
      "source": [
        "my_model1"
      ],
      "metadata": {
        "id": "oCQxLT-_mW1t",
        "outputId": "0ce7e28a-822b-4621-b34d-2ecd091ae2ae",
        "colab": {
          "base_uri": "https://localhost:8080/",
          "height": 0
        }
      },
      "execution_count": 133,
      "outputs": [
        {
          "output_type": "execute_result",
          "data": {
            "text/plain": [
              "MoonModelV0(\n",
              "  (layer1): Linear(in_features=2, out_features=50, bias=True)\n",
              "  (layer2): ReLU()\n",
              "  (layer3): Linear(in_features=50, out_features=100, bias=True)\n",
              "  (layer4): Sigmoid()\n",
              "  (layer5): Linear(in_features=100, out_features=1, bias=True)\n",
              ")"
            ]
          },
          "metadata": {},
          "execution_count": 133
        }
      ]
    },
    {
      "cell_type": "code",
      "source": [
        "X_test.device"
      ],
      "metadata": {
        "id": "qtcJGVuLnSNS",
        "outputId": "0adcf435-ba12-4c25-8424-6f2bfd392956",
        "colab": {
          "base_uri": "https://localhost:8080/",
          "height": 0
        }
      },
      "execution_count": 134,
      "outputs": [
        {
          "output_type": "execute_result",
          "data": {
            "text/plain": [
              "device(type='cpu')"
            ]
          },
          "metadata": {},
          "execution_count": 134
        }
      ]
    },
    {
      "cell_type": "markdown",
      "source": [
        "## 3. Setup a binary classification compatible loss function and optimizer to use when training the model built in 2."
      ],
      "metadata": {
        "id": "DSj97RwyVeFE"
      }
    },
    {
      "cell_type": "code",
      "source": [
        "untrained_pred = my_model1(X_test.to(device))\n",
        "untrained_pred.shape"
      ],
      "metadata": {
        "id": "aIyYPTejm_g0",
        "outputId": "7395ae1f-bc18-49b2-cde1-3bed462f299e",
        "colab": {
          "base_uri": "https://localhost:8080/",
          "height": 0
        }
      },
      "execution_count": 135,
      "outputs": [
        {
          "output_type": "execute_result",
          "data": {
            "text/plain": [
              "torch.Size([200, 1])"
            ]
          },
          "metadata": {},
          "execution_count": 135
        }
      ]
    },
    {
      "cell_type": "code",
      "source": [
        "# Setup loss function\n",
        "loss_fn = nn.BCEWithLogitsLoss()\n",
        "# Setup optimizer to optimize model's parameters\n",
        "my_optim = torch.optim.SGD(params = my_model1.parameters(), lr = 0.05)"
      ],
      "metadata": {
        "id": "whSGw5qgVvxU"
      },
      "execution_count": 136,
      "outputs": []
    },
    {
      "cell_type": "markdown",
      "source": [
        "## 4. Create a training and testing loop to fit the model you created in 2 to the data you created in 1.\n",
        "  * Do a forward pass of the model to see what's coming out in the form of logits, prediction probabilities and labels.\n",
        "  * To measure model accuray, you can create your own accuracy function or use the accuracy function in [TorchMetrics](https://torchmetrics.readthedocs.io/en/latest/).\n",
        "  * Train the model for long enough for it to reach over 96% accuracy.\n",
        "  * The training loop should output progress every 10 epochs of the model's training and test set loss and accuracy."
      ],
      "metadata": {
        "id": "nvk4PfNTWUAt"
      }
    },
    {
      "cell_type": "code",
      "source": [
        "# What's coming out of our model?\n",
        "\n",
        "# logits (raw outputs of model)\n",
        "logits = my_model1(X_train.to(device))[:5]\n",
        "print(f\"Logits:{logits}\")\n",
        "## Your code here ##\n",
        "y_pred_probs = torch.sigmoid(logits)\n",
        "# Prediction probabilities\n",
        "print(f\"Pred probs:{y_pred_probs}\")\n",
        "## Your code here ##\n",
        "y_pred = torch.round(y_pred_probs)\n",
        "# Prediction labels\n",
        "print(f\"Pred labels:{y_pred}\")\n",
        "## Your code here ##\n",
        "y_pred.squeeze()"
      ],
      "metadata": {
        "colab": {
          "base_uri": "https://localhost:8080/",
          "height": 0
        },
        "id": "AgnFdlamd2-D",
        "outputId": "15b0b2e6-df00-4032-e967-c7737fdf5a0a"
      },
      "execution_count": 137,
      "outputs": [
        {
          "output_type": "stream",
          "name": "stdout",
          "text": [
            "Logits:tensor([[0.1296],\n",
            "        [0.1199],\n",
            "        [0.1448],\n",
            "        [0.1202],\n",
            "        [0.1398]], grad_fn=<SliceBackward0>)\n",
            "Pred probs:tensor([[0.5324],\n",
            "        [0.5299],\n",
            "        [0.5361],\n",
            "        [0.5300],\n",
            "        [0.5349]], grad_fn=<SigmoidBackward0>)\n",
            "Pred labels:tensor([[1.],\n",
            "        [1.],\n",
            "        [1.],\n",
            "        [1.],\n",
            "        [1.]], grad_fn=<RoundBackward0>)\n"
          ]
        },
        {
          "output_type": "execute_result",
          "data": {
            "text/plain": [
              "tensor([1., 1., 1., 1., 1.], grad_fn=<SqueezeBackward0>)"
            ]
          },
          "metadata": {},
          "execution_count": 137
        }
      ]
    },
    {
      "cell_type": "code",
      "source": [
        "# Let's calculuate the accuracy using accuracy from TorchMetrics\n",
        "!pip -q install torchmetrics # Colab doesn't come with torchmetrics\n",
        "from torchmetrics import Accuracy\n",
        "\n",
        "## TODO: Uncomment this code to use the Accuracy function\n",
        "acc_fn = Accuracy(task=\"multiclass\", num_classes=2).to(device) # send accuracy function to device\n",
        "acc_fn"
      ],
      "metadata": {
        "id": "rUSDNHB4euoJ",
        "outputId": "4ae34781-5a84-469a-dd0f-f17f38ff8373",
        "colab": {
          "base_uri": "https://localhost:8080/",
          "height": 0
        }
      },
      "execution_count": 138,
      "outputs": [
        {
          "output_type": "execute_result",
          "data": {
            "text/plain": [
              "MulticlassAccuracy()"
            ]
          },
          "metadata": {},
          "execution_count": 138
        }
      ]
    },
    {
      "cell_type": "code",
      "source": [
        "y_train[:5]"
      ],
      "metadata": {
        "id": "Fwpb-1ENIPBu",
        "outputId": "f8a9fdb8-5824-4ed8-c973-d735cd002022",
        "colab": {
          "base_uri": "https://localhost:8080/",
          "height": 0
        }
      },
      "execution_count": 139,
      "outputs": [
        {
          "output_type": "execute_result",
          "data": {
            "text/plain": [
              "tensor([0., 0., 1., 0., 0.])"
            ]
          },
          "metadata": {},
          "execution_count": 139
        }
      ]
    },
    {
      "cell_type": "code",
      "source": [
        "## TODO: Uncomment this to set the seed\n",
        "torch.manual_seed(42)\n",
        "\n",
        "# Setup epochs\n",
        "epochs = 4000\n",
        "\n",
        "# Send data to the device\n",
        "X_train, y_train = X_train.to(device), y_train.to(device)\n",
        "X_test, y_test = X_test.to(device), y_test.to(device)\n",
        "\n",
        "\n",
        "\n",
        "for epoch in range(epochs):\n",
        "# Loop through the data\n",
        "# for epoch in range(epochs):\n",
        "  ### Training\n",
        "  my_model1.train()\n",
        "\n",
        "  # 1. Forward pass (logits output)\n",
        "  logits = my_model1(X_train).squeeze()\n",
        "  # Turn logits into prediction probabilities\n",
        "  # y_pred_probs = torch.sigmoid(logits)\n",
        "  y_pred_probs = torch.sigmoid(logits)\n",
        "\n",
        "  # Turn prediction probabilities into prediction labels\n",
        "  y_pred_labels = torch.round(y_pred_probs)\n",
        "\n",
        "  # 2. Calculaute the loss\n",
        "  loss = loss_fn(logits, y_train) # loss = compare model raw outputs to desired model outputs\n",
        "\n",
        "  # Calculate the accuracy\n",
        "  acc = acc_fn(y_train.int(),y_pred_labels) # the accuracy function needs to compare pred labels (not logits) with actual labels\n",
        "\n",
        "  # 3. Zero the gradients\n",
        "  my_optim.zero_grad()\n",
        "\n",
        "  # 4. Loss backward (perform backpropagation) - https://brilliant.org/wiki/backpropagation/#:~:text=Backpropagation%2C%20short%20for%20%22backward%20propagation,to%20the%20neural%20network's%20weights.\n",
        "  loss.backward()\n",
        "  # 5. Step the optimizer (gradient descent) - https://towardsdatascience.com/gradient-descent-algorithm-a-deep-dive-cf04e8115f21#:~:text=Gradient%20descent%20(GD)%20is%20an,e.g.%20in%20a%20linear%20regression) \n",
        "  my_optim.step()\n",
        "\n",
        "  ### Testing\n",
        "  my_model1.eval() \n",
        "  with torch.inference_mode():\n",
        "    # 1. Forward pass (to get the logits)\n",
        "    test_logits = my_model1(X_test).squeeze()\n",
        "    # Turn the test logits into prediction labels\n",
        "    y_test_prob = torch.sigmoid(test_logits)\n",
        "    y_test_labels = torch.round(y_test_prob)\n",
        "\n",
        "    # 2. Caculate the test loss/acc\n",
        "    test_acc = acc_fn(y_test.int(), y_test_labels)\n",
        "\n",
        "  # Print out what's happening every 100 epochs\n",
        "  if epoch % 200 == 0:\n",
        "    print(f\"this is the No.{epoch} loop \\t train acc = {acc} \\t test_acc = {test_acc}\")\n",
        "    "
      ],
      "metadata": {
        "id": "SHBY3h7XXnxt",
        "outputId": "4c59d9fb-4f78-46b3-9d62-e690b0da17e0",
        "colab": {
          "base_uri": "https://localhost:8080/",
          "height": 0
        }
      },
      "execution_count": 140,
      "outputs": [
        {
          "output_type": "stream",
          "name": "stdout",
          "text": [
            "this is the No.0 loop \t train acc = 0.4950000047683716 \t test_acc = 0.5199999809265137\n",
            "this is the No.200 loop \t train acc = 0.7950000166893005 \t test_acc = 0.824999988079071\n",
            "this is the No.400 loop \t train acc = 0.8324999809265137 \t test_acc = 0.8550000190734863\n",
            "this is the No.600 loop \t train acc = 0.8687499761581421 \t test_acc = 0.9049999713897705\n",
            "this is the No.800 loop \t train acc = 0.887499988079071 \t test_acc = 0.9150000214576721\n",
            "this is the No.1000 loop \t train acc = 0.9037500023841858 \t test_acc = 0.9200000166893005\n",
            "this is the No.1200 loop \t train acc = 0.9112499952316284 \t test_acc = 0.925000011920929\n",
            "this is the No.1400 loop \t train acc = 0.9150000214576721 \t test_acc = 0.9300000071525574\n",
            "this is the No.1600 loop \t train acc = 0.9200000166893005 \t test_acc = 0.9200000166893005\n",
            "this is the No.1800 loop \t train acc = 0.9275000095367432 \t test_acc = 0.9300000071525574\n",
            "this is the No.2000 loop \t train acc = 0.9412500262260437 \t test_acc = 0.9649999737739563\n",
            "this is the No.2200 loop \t train acc = 0.949999988079071 \t test_acc = 0.9649999737739563\n",
            "this is the No.2400 loop \t train acc = 0.9612500071525574 \t test_acc = 0.9649999737739563\n",
            "this is the No.2600 loop \t train acc = 0.9725000262260437 \t test_acc = 0.9750000238418579\n",
            "this is the No.2800 loop \t train acc = 0.9775000214576721 \t test_acc = 0.9800000190734863\n",
            "this is the No.3000 loop \t train acc = 0.9862499833106995 \t test_acc = 0.9850000143051147\n",
            "this is the No.3200 loop \t train acc = 0.987500011920929 \t test_acc = 0.9850000143051147\n",
            "this is the No.3400 loop \t train acc = 0.9912499785423279 \t test_acc = 0.9900000095367432\n",
            "this is the No.3600 loop \t train acc = 0.9925000071525574 \t test_acc = 0.9900000095367432\n",
            "this is the No.3800 loop \t train acc = 0.9950000047683716 \t test_acc = 0.9900000095367432\n"
          ]
        }
      ]
    },
    {
      "cell_type": "code",
      "source": [],
      "metadata": {
        "id": "qx9ldNbkINpl"
      },
      "execution_count": 140,
      "outputs": []
    },
    {
      "cell_type": "markdown",
      "source": [
        "## 5. Make predictions with your trained model and plot them using the `plot_decision_boundary()` function created in this notebook."
      ],
      "metadata": {
        "id": "8Nwihtomj9JO"
      }
    },
    {
      "cell_type": "code",
      "source": [
        "# Plot the model predictions\n",
        "import numpy as np\n",
        "\n",
        "def plot_decision_boundary(model, X, y):\n",
        "  \n",
        "    # Put everything to CPU (works better with NumPy + Matplotlib)\n",
        "    model.to(\"cpu\")\n",
        "    X, y = X.to(\"cpu\"), y.to(\"cpu\")\n",
        "\n",
        "    # Source - https://madewithml.com/courses/foundations/neural-networks/ \n",
        "    # (with modifications)\n",
        "    x_min, x_max = X[:, 0].min() - 0.1, X[:, 0].max() + 0.1\n",
        "    y_min, y_max = X[:, 1].min() - 0.1, X[:, 1].max() + 0.1\n",
        "    xx, yy = np.meshgrid(np.linspace(x_min, x_max, 101), \n",
        "                         np.linspace(y_min, y_max, 101))\n",
        "\n",
        "    # Make features\n",
        "    X_to_pred_on = torch.from_numpy(np.column_stack((xx.ravel(), yy.ravel()))).float()\n",
        "\n",
        "    # Make predictions\n",
        "    model.eval()\n",
        "    with torch.inference_mode():\n",
        "        y_logits = model(X_to_pred_on)\n",
        "\n",
        "    # Test for multi-class or binary and adjust logits to prediction labels\n",
        "    if len(torch.unique(y)) > 2:\n",
        "        y_pred = torch.softmax(y_logits, dim=1).argmax(dim=1) # mutli-class\n",
        "    else: \n",
        "        y_pred = torch.round(torch.sigmoid(y_logits)) # binary\n",
        "    \n",
        "    # Reshape preds and plot\n",
        "    y_pred = y_pred.reshape(xx.shape).detach().numpy()\n",
        "    plt.contourf(xx, yy, y_pred, cmap=plt.cm.RdYlBu, alpha=0.7)\n",
        "    plt.scatter(X[:, 0], X[:, 1], c=y, s=40, cmap=plt.cm.RdYlBu)\n",
        "    plt.xlim(xx.min(), xx.max())\n",
        "    plt.ylim(yy.min(), yy.max())"
      ],
      "metadata": {
        "id": "0YRzatb8a1P2"
      },
      "execution_count": 37,
      "outputs": []
    },
    {
      "cell_type": "code",
      "source": [
        "# Plot decision boundaries for training and test sets\n",
        "plot_decision_boundary(my_model1, X, y)"
      ],
      "metadata": {
        "id": "PMrcpyirig1d",
        "outputId": "502ea0ad-98ef-4395-d0cb-c4b6d22694f5",
        "colab": {
          "base_uri": "https://localhost:8080/",
          "height": 265
        }
      },
      "execution_count": 142,
      "outputs": [
        {
          "output_type": "display_data",
          "data": {
            "text/plain": [
              "<Figure size 432x288 with 1 Axes>"
            ],
            "image/png": "[encoded data removed]"
          },
          "metadata": {
            "needs_background": "light"
          }
        }
      ]
    },
    {
      "cell_type": "markdown",
      "source": [
        "## 6. Replicate the Tanh (hyperbolic tangent) activation function in pure PyTorch.\n",
        "  * Feel free to reference the [ML cheatsheet website](https://ml-cheatsheet.readthedocs.io/en/latest/activation_functions.html#tanh) for the formula."
      ],
      "metadata": {
        "id": "EtMYBvtciiAU"
      }
    },
    {
      "cell_type": "code",
      "source": [
        "# Create a straight line tensor\n",
        "A = torch.range(-10,10,1,dtype = torch.float32)\n",
        "A"
      ],
      "metadata": {
        "id": "BlXaWC5TkEUE",
        "outputId": "b7528d4a-5609-47e7-931e-94e6993ab459",
        "colab": {
          "base_uri": "https://localhost:8080/",
          "height": 0
        }
      },
      "execution_count": 143,
      "outputs": [
        {
          "output_type": "stream",
          "name": "stderr",
          "text": [
            "<ipython-input-143-408e4dd5adb1>:2: UserWarning: torch.range is deprecated and will be removed in a future release because its behavior is inconsistent with Python's range builtin. Instead, use torch.arange, which produces values in [start, end).\n",
            "  A = torch.range(-10,10,1,dtype = torch.float32)\n"
          ]
        },
        {
          "output_type": "execute_result",
          "data": {
            "text/plain": [
              "tensor([-10.,  -9.,  -8.,  -7.,  -6.,  -5.,  -4.,  -3.,  -2.,  -1.,   0.,   1.,\n",
              "          2.,   3.,   4.,   5.,   6.,   7.,   8.,   9.,  10.])"
            ]
          },
          "metadata": {},
          "execution_count": 143
        }
      ]
    },
    {
      "cell_type": "code",
      "source": [
        "# Test torch.tanh() on the tensor and plot it\n",
        "plt.plot(A,torch.tanh(A))"
      ],
      "metadata": {
        "id": "vZPCcQmIkZjO",
        "outputId": "8d9364f9-c920-4359-fc0d-728e04a6f8b9",
        "colab": {
          "base_uri": "https://localhost:8080/",
          "height": 283
        }
      },
      "execution_count": 145,
      "outputs": [
        {
          "output_type": "execute_result",
          "data": {
            "text/plain": [
              "[<matplotlib.lines.Line2D at 0x7f05d0b5dca0>]"
            ]
          },
          "metadata": {},
          "execution_count": 145
        },
        {
          "output_type": "display_data",
          "data": {
            "text/plain": [
              "<Figure size 432x288 with 1 Axes>"
            ],
            "image/png": "[encoded data removed]"
          },
          "metadata": {
            "needs_background": "light"
          }
        }
      ]
    },
    {
      "cell_type": "code",
      "source": [
        "\n"
      ],
      "metadata": {
        "id": "J-ne__Kjkdc1"
      },
      "execution_count": null,
      "outputs": []
    },
    {
      "cell_type": "markdown",
      "source": [
        "## 7. Create a multi-class dataset using the [spirals data creation function from CS231n](https://cs231n.github.io/neural-networks-case-study/) (see below for the code).\n",
        "  * Split the data into training and test sets (80% train, 20% test) as well as turn it into PyTorch tensors.\n",
        "  * Construct a model capable of fitting the data (you may need a combination of linear and non-linear layers).\n",
        "  * Build a loss function and optimizer capable of handling multi-class data (optional extension: use the Adam optimizer instead of SGD, you may have to experiment with different values of the learning rate to get it working).\n",
        "  * Make a training and testing loop for the multi-class data and train a model on it to reach over 95% testing accuracy (you can use any accuracy measuring function here that you like) - 1000 epochs should be plenty.\n",
        "  * Plot the decision boundaries on the spirals dataset from your model predictions, the `plot_decision_boundary()` function should work for this dataset too."
      ],
      "metadata": {
        "id": "Lbt1bNcWk5G9"
      }
    },
    {
      "cell_type": "code",
      "source": [
        "# Code for creating a spiral dataset from CS231n\n",
        "import numpy as np\n",
        "import matplotlib.pyplot as plt\n",
        "RANDOM_SEED = 42\n",
        "np.random.seed(RANDOM_SEED)\n",
        "N = 100 # number of points per class\n",
        "D = 2 # dimensionality\n",
        "K = 3 # number of classes\n",
        "X = np.zeros((N*K,D)) # data matrix (each row = single example)\n",
        "y = np.zeros(N*K, dtype='uint8') # class labels\n",
        "for j in range(K):\n",
        "  ix = range(N*j,N*(j+1))\n",
        "  r = np.linspace(0.0,1,N) # radius\n",
        "  t = np.linspace(j*4,(j+1)*4,N) + np.random.randn(N)*0.2 # theta\n",
        "  X[ix] = np.c_[r*np.sin(t), r*np.cos(t)]\n",
        "  y[ix] = j\n",
        "# lets visualize the data\n",
        "plt.scatter(X[:, 0], X[:, 1], c=y, s=40, cmap=plt.cm.RdYlBu)\n",
        "plt.show()"
      ],
      "metadata": {
        "colab": {
          "base_uri": "https://localhost:8080/",
          "height": 265
        },
        "id": "tU-UNZsKlJls",
        "outputId": "58a2f599-d26f-4c5d-b7bc-7c9a7c1ed934"
      },
      "execution_count": 27,
      "outputs": [
        {
          "output_type": "display_data",
          "data": {
            "text/plain": [
              "<Figure size 432x288 with 1 Axes>"
            ],
            "image/png": "[encoded data removed]"
          },
          "metadata": {
            "needs_background": "light"
          }
        }
      ]
    },
    {
      "cell_type": "code",
      "source": [
        "from pandas.core.generic import RandomState\n",
        "# Turn data into tensors\n",
        "import torch\n",
        "X = torch.from_numpy(X).type(torch.float) # features as float32\n",
        "y = torch.from_numpy(y).type(torch.LongTensor) # labels need to be of type long\n",
        "\n",
        "# Create train and test splits\n",
        "from sklearn.model_selection import train_test_split\n",
        "X_train, X_test, y_train, y_test = train_test_split(X, y, test_size = 0.1, random_state = RANDOM_SEED)\n",
        "len(X_train), len(X_test), len(y_train), len(y_test)"
      ],
      "metadata": {
        "id": "OWVrmkEyl0VP",
        "outputId": "9082d91c-7312-423c-c333-f39d6dbc3d80",
        "colab": {
          "base_uri": "https://localhost:8080/",
          "height": 0
        }
      },
      "execution_count": 28,
      "outputs": [
        {
          "output_type": "execute_result",
          "data": {
            "text/plain": [
              "(270, 30, 270, 30)"
            ]
          },
          "metadata": {},
          "execution_count": 28
        }
      ]
    },
    {
      "cell_type": "code",
      "source": [
        "device = \"cuda\" if torch.cuda.is_available() else \"cpu\"\n",
        "# Let's calculuate the accuracy for when we fit our model\n",
        "!pip -q install torchmetrics # colab doesn't come with torchmetrics\n",
        "from torchmetrics import Accuracy\n",
        "\n",
        "## TODO: uncomment the two lines below to send the accuracy function to the device\n",
        "acc_fn = Accuracy(task=\"multiclass\", num_classes=4).to(device)\n",
        "acc_fn"
      ],
      "metadata": {
        "id": "a-v-7f0op0tG",
        "outputId": "177d7dcc-e1eb-404e-f634-fd27398eafb2",
        "colab": {
          "base_uri": "https://localhost:8080/",
          "height": 0
        }
      },
      "execution_count": 29,
      "outputs": [
        {
          "output_type": "execute_result",
          "data": {
            "text/plain": [
              "MulticlassAccuracy()"
            ]
          },
          "metadata": {},
          "execution_count": 29
        }
      ]
    },
    {
      "cell_type": "code",
      "source": [
        "X.shape, y.shape"
      ],
      "metadata": {
        "id": "tjQ9ntFylLs3",
        "outputId": "a7792add-4a24-4cbf-96fd-25da55dcccbf",
        "colab": {
          "base_uri": "https://localhost:8080/",
          "height": 0
        }
      },
      "execution_count": 30,
      "outputs": [
        {
          "output_type": "execute_result",
          "data": {
            "text/plain": [
              "(torch.Size([300, 2]), torch.Size([300]))"
            ]
          },
          "metadata": {},
          "execution_count": 30
        }
      ]
    },
    {
      "cell_type": "code",
      "source": [
        "# Prepare device agnostic code\n",
        "from torch import nn\n",
        "device = \"cuda\" if torch.cuda.is_available() else \"cpu\"\n",
        "print(device)\n",
        "# Create model by subclassing nn.Module\n",
        "class MultiClass(nn.Module):\n",
        "  def __init__(self, in_features, out_features, hidden_features = 100):\n",
        "    super().__init__()\n",
        "    self.layer_stack = nn.Sequential(\n",
        "        nn.Linear(in_features = in_features,\n",
        "                  out_features = hidden_features),\n",
        "        nn.ReLU(),\n",
        "        nn.Linear(in_features = hidden_features,\n",
        "                  out_features = (hidden_features-50)),\n",
        "        nn.ReLU(),\n",
        "        nn.Linear(in_features = (hidden_features-50),\n",
        "                  out_features = out_features)   \n",
        "    )\n",
        "  \n",
        "  def forward(self, X):\n",
        "    return self.layer_stack(X)\n",
        "\n",
        "\n",
        "# Instantiate model and send it to device\n",
        "my_model2 = MultiClass(in_features = 2,\n",
        "                       out_features = 3,\n",
        "                       hidden_features = 100).to(device)\n",
        "\n",
        "my_model2"
      ],
      "metadata": {
        "id": "DB3u3ldumapf",
        "outputId": "8898997f-b2bb-4fd8-9252-2cb2cc3a5ed9",
        "colab": {
          "base_uri": "https://localhost:8080/",
          "height": 0
        }
      },
      "execution_count": 31,
      "outputs": [
        {
          "output_type": "stream",
          "name": "stdout",
          "text": [
            "cuda\n"
          ]
        },
        {
          "output_type": "execute_result",
          "data": {
            "text/plain": [
              "MultiClass(\n",
              "  (layer_stack): Sequential(\n",
              "    (0): Linear(in_features=2, out_features=100, bias=True)\n",
              "    (1): ReLU()\n",
              "    (2): Linear(in_features=100, out_features=50, bias=True)\n",
              "    (3): ReLU()\n",
              "    (4): Linear(in_features=50, out_features=3, bias=True)\n",
              "  )\n",
              ")"
            ]
          },
          "metadata": {},
          "execution_count": 31
        }
      ]
    },
    {
      "cell_type": "code",
      "source": [
        "# Setup data to be device agnostic\n",
        "X_train, y_train = X_train.to(device), y_train.to(device)\n",
        "X_test, y_test = X_test.to(device), y_test.to(device)\n",
        "\n",
        "# Print out first 10 untrained model outputs (forward pass)\n",
        "# Print out untrained model outputs\n",
        "print(\"Logits:\")\n",
        "print(my_model2(X_train)[:10])\n",
        "\n",
        "print(\"Pred probs:\")\n",
        "print(torch.softmax(my_model2(X_train)[:10], dim=1))\n",
        "\n",
        "print(\"Pred labels:\")\n",
        "print(torch.softmax(my_model2(X_train)[:10], dim=1).argmax(dim=1))\n",
        "     "
      ],
      "metadata": {
        "colab": {
          "base_uri": "https://localhost:8080/",
          "height": 0
        },
        "id": "QE7XWSSunMTS",
        "outputId": "b16de323-03f2-4d58-800b-e99538ad7c45"
      },
      "execution_count": 32,
      "outputs": [
        {
          "output_type": "stream",
          "name": "stdout",
          "text": [
            "Logits:\n",
            "tensor([[ 0.1352, -0.1818, -0.1114],\n",
            "        [ 0.0793, -0.2071, -0.0742],\n",
            "        [ 0.1182, -0.1725, -0.1033],\n",
            "        [ 0.1255, -0.1791, -0.1086],\n",
            "        [ 0.1709, -0.1720, -0.1107],\n",
            "        [ 0.1698, -0.2013, -0.1203],\n",
            "        [ 0.1532, -0.1854, -0.1157],\n",
            "        [ 0.2282, -0.1618, -0.1289],\n",
            "        [ 0.1354, -0.1569, -0.0925],\n",
            "        [ 0.2214, -0.1425, -0.1216]], device='cuda:0',\n",
            "       grad_fn=<SliceBackward0>)\n",
            "Pred probs:\n",
            "tensor([[0.3984, 0.2902, 0.3114],\n",
            "        [0.3833, 0.2879, 0.3288],\n",
            "        [0.3923, 0.2933, 0.3144],\n",
            "        [0.3955, 0.2916, 0.3129],\n",
            "        [0.4058, 0.2880, 0.3062],\n",
            "        [0.4102, 0.2830, 0.3068],\n",
            "        [0.4037, 0.2877, 0.3085],\n",
            "        [0.4207, 0.2849, 0.2944],\n",
            "        [0.3933, 0.2936, 0.3131],\n",
            "        [0.4159, 0.2890, 0.2951]], device='cuda:0', grad_fn=<SoftmaxBackward0>)\n",
            "Pred labels:\n",
            "tensor([0, 0, 0, 0, 0, 0, 0, 0, 0, 0], device='cuda:0')\n"
          ]
        }
      ]
    },
    {
      "cell_type": "code",
      "source": [
        "# Setup loss function and optimizer\n",
        "loss_fn = nn.CrossEntropyLoss()\n",
        "optimizer = torch.optim.Adam(params = my_model2.parameters(),\n",
        "                             lr = 0.01)"
      ],
      "metadata": {
        "id": "54EqLRKLo0AW"
      },
      "execution_count": 33,
      "outputs": []
    },
    {
      "cell_type": "code",
      "source": [
        "# Build a training loop for the model\n",
        "epochs = 1000\n",
        "# Loop over data\n",
        "for epoch in range(epochs):\n",
        "\n",
        "\n",
        "  ## Training\n",
        "  my_model2.train()\n",
        "  # 1. Forward pass\n",
        "  logits = my_model2(X_train)\n",
        "  y_pred = torch.softmax(logits, dim = 1).argmax(dim = 1)\n",
        "\n",
        "  # 2. Calculate the loss\n",
        "  loss = loss_fn(logits, y_train)\n",
        "  \n",
        "  # 3. Optimizer zero grad\n",
        "  optimizer.zero_grad()\n",
        "\n",
        "  # 4. Loss backward\n",
        "  loss.backward()\n",
        "\n",
        "  # 5. Optimizer step\n",
        "  optimizer.step()\n",
        "\n",
        "  ## Testing\n",
        "  my_model2.eval()\n",
        "  with torch.inference_mode():\n",
        "    # 1. Forward pass\n",
        "    test_logits2 = my_model2(X_test)\n",
        "    y_test_pred = torch.softmax(test_logits2, dim = 1).argmax(dim = 1)\n",
        "\n",
        "    # 2. Caculate loss and acc\n",
        "    test_loss = loss_fn(test_logits2, y_test)\n",
        "    test_acc = acc_fn(y_test, y_test_pred)\n",
        "  # Print out what's happening every 100 epochs\n",
        "  if epoch%100 == 0:\n",
        "    print(f\"Epoch: {epoch} | Loss: {loss:.5f},| Test Loss: {test_loss:.5f}, Test acc: {test_acc:.2f}\")\n"
      ],
      "metadata": {
        "id": "vIlExkUHnmxi",
        "outputId": "794e36c3-0311-4e11-8368-2c98f34c3f34",
        "colab": {
          "base_uri": "https://localhost:8080/",
          "height": 0
        }
      },
      "execution_count": 34,
      "outputs": [
        {
          "output_type": "stream",
          "name": "stdout",
          "text": [
            "Epoch: 0 | Loss: 1.11095,| Test Loss: 1.06104, Test acc: 0.43\n",
            "Epoch: 100 | Loss: 0.03297,| Test Loss: 0.01646, Test acc: 1.00\n",
            "Epoch: 200 | Loss: 0.01993,| Test Loss: 0.00219, Test acc: 1.00\n",
            "Epoch: 300 | Loss: 0.01623,| Test Loss: 0.00044, Test acc: 1.00\n",
            "Epoch: 400 | Loss: 0.01460,| Test Loss: 0.00012, Test acc: 1.00\n",
            "Epoch: 500 | Loss: 0.01367,| Test Loss: 0.00005, Test acc: 1.00\n",
            "Epoch: 600 | Loss: 0.01317,| Test Loss: 0.00002, Test acc: 1.00\n",
            "Epoch: 700 | Loss: 0.01292,| Test Loss: 0.00001, Test acc: 1.00\n",
            "Epoch: 800 | Loss: 0.01289,| Test Loss: 0.00001, Test acc: 1.00\n",
            "Epoch: 900 | Loss: 0.01268,| Test Loss: 0.00000, Test acc: 1.00\n"
          ]
        }
      ]
    },
    {
      "cell_type": "code",
      "source": [
        "# Plot decision boundaries for training and test sets\n",
        "plt.figure(figsize=(12, 6))\n",
        "plt.subplot(1, 2, 1)\n",
        "plt.title(\"Train\")\n",
        "plot_decision_boundary(my_model2, X_train, y_train)\n",
        "plt.subplot(1, 2, 2)\n",
        "plt.title(\"Test\")\n",
        "plot_decision_boundary(my_model2, X_test, y_test)"
      ],
      "metadata": {
        "id": "JrwVRbaE0keT",
        "outputId": "566efec6-5793-4706-db8f-7b81fce1fc81",
        "colab": {
          "base_uri": "https://localhost:8080/",
          "height": 390
        }
      },
      "execution_count": 38,
      "outputs": [
        {
          "output_type": "display_data",
          "data": {
            "text/plain": [
              "<Figure size 864x432 with 2 Axes>"
            ],
            "image/png": "[encoded data removed]"
          },
          "metadata": {
            "needs_background": "light"
          }
        }
      ]
    }
  ]
}