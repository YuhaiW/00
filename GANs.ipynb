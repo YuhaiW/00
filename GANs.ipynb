{
  "nbformat": 4,
  "nbformat_minor": 0,
  "metadata": {
    "colab": {
      "provenance": [],
      "authorship_tag": "ABX9TyNOWEwD1NQjCCowWw6JJYK6",
      "include_colab_link": true
    },
    "kernelspec": {
      "name": "python3",
      "display_name": "Python 3"
    },
    "language_info": {
      "name": "python"
    },
    "accelerator": "GPU",
    "gpuClass": "standard"
  },
  "cells": [
    {
      "cell_type": "markdown",
      "metadata": {
        "id": "view-in-github",
        "colab_type": "text"
      },
      "source": [
        "<a href=\"https://colab.research.google.com/github/YuhaiW/00/blob/main/GANs.ipynb\" target=\"_parent\"><img src=\"https://colab.research.google.com/assets/colab-badge.svg\" alt=\"Open In Colab\"/></a>"
      ]
    },
    {
      "cell_type": "code",
      "execution_count": 46,
      "metadata": {
        "id": "h1dv1RaOQGYa"
      },
      "outputs": [],
      "source": [
        "import torch\n",
        "import torch.nn as nn\n",
        "import torch.optim as optim\n",
        "import torchvision \n",
        "import torchvision.datasets as datasets\n",
        "from torch.utils.data import DataLoader\n",
        "import torchvision.transforms as transforms\n",
        "from torch.utils.tensorboard import SummaryWriter\n"
      ]
    },
    {
      "cell_type": "code",
      "source": [
        "class Discriminator(nn.Module):\n",
        "  def __init__(self, im_dim):\n",
        "    super().__init__()\n",
        "    self.disc = nn.Sequential(\n",
        "        nn.Linear(im_dim, 128),\n",
        "        nn.LeakyReLU(0.1),\n",
        "        nn.Linear(128,1),\n",
        "        nn.Sigmoid()\n",
        "    )\n",
        "\n",
        "  def forward(self, x):\n",
        "    return self.disc(x)"
      ],
      "metadata": {
        "id": "BF86b0q8Rltt"
      },
      "execution_count": 47,
      "outputs": []
    },
    {
      "cell_type": "markdown",
      "source": [],
      "metadata": {
        "id": "Tjbp9qg8Tmty"
      }
    },
    {
      "cell_type": "code",
      "source": [
        "from torch.nn.modules.activation import Tanh\n",
        "class Generator(nn.Module):\n",
        "  def __init__(self, z_dim, im_dim):\n",
        "    super().__init__()\n",
        "    self.gen = nn.Sequential(\n",
        "        nn.Linear(z_dim, 256),\n",
        "        nn.LeakyReLU(0.1),\n",
        "        nn.Linear(256,im_dim),\n",
        "        nn.Tanh()\n",
        "    )\n",
        "  \n",
        "  def forward(self,x):\n",
        "    return self.gen(x)\n"
      ],
      "metadata": {
        "id": "eaFrv9ReWbgU"
      },
      "execution_count": 48,
      "outputs": []
    },
    {
      "cell_type": "code",
      "source": [
        "device = \"cuda\" if torch.cuda.is_available() else \"cpu\"\n",
        "device\n"
      ],
      "metadata": {
        "colab": {
          "base_uri": "https://localhost:8080/",
          "height": 35
        },
        "id": "eVYDHUgTZqpN",
        "outputId": "0831f387-fee7-4e1e-d4c3-2a329be498ab"
      },
      "execution_count": 49,
      "outputs": [
        {
          "output_type": "execute_result",
          "data": {
            "text/plain": [
              "'cuda'"
            ],
            "application/vnd.google.colaboratory.intrinsic+json": {
              "type": "string"
            }
          },
          "metadata": {},
          "execution_count": 49
        }
      ]
    },
    {
      "cell_type": "code",
      "source": [
        "lr = 9e-4\n",
        "z_dim = 64\n",
        "image_dim = 28*28*1\n",
        "batch_size = 32\n",
        "num_epochs = 50\n"
      ],
      "metadata": {
        "id": "WuxUVUKkrfS8"
      },
      "execution_count": 50,
      "outputs": []
    },
    {
      "cell_type": "code",
      "source": [
        "disc = Discriminator(image_dim).to(device)\n",
        "gen = Generator(z_dim, image_dim).to(device)\n",
        "fixed_noise = torch.randn((batch_size, z_dim)).to(device)\n",
        "fixed_noise.size()"
      ],
      "metadata": {
        "colab": {
          "base_uri": "https://localhost:8080/"
        },
        "id": "vxPbKgwgviN0",
        "outputId": "23ed1ca2-35b2-4479-8801-53742d4d40dd"
      },
      "execution_count": 51,
      "outputs": [
        {
          "output_type": "execute_result",
          "data": {
            "text/plain": [
              "torch.Size([32, 64])"
            ]
          },
          "metadata": {},
          "execution_count": 51
        }
      ]
    },
    {
      "cell_type": "markdown",
      "source": [
        "This code block sets up a PyTorch data loader for the MNIST dataset with a specified batch size and data transformations.\n",
        "\n",
        "Here's what each line does:\n",
        "\n",
        "transforms.Compose() creates a series of image transformations to be applied to the dataset. In this case, it includes converting the images to PyTorch tensors with transforms.ToTensor(), and then normalizing the tensor values using the mean (0.13,) and standard deviation (0.3,) of the dataset.\n",
        "\n",
        "datasets.MNIST() initializes a new MNIST dataset instance with the specified root directory for data storage, and the transform parameter to apply the previously created transformations to the dataset. The download parameter is set to True to download the dataset if it doesn't already exist in the specified root directory.\n",
        "\n",
        "DataLoader() creates a PyTorch data loader for the dataset with the specified batch size batch_size and shuffles the data with shuffle=True during training to avoid bias in the mini-batches."
      ],
      "metadata": {
        "id": "MpfMtFtV8xHr"
      }
    },
    {
      "cell_type": "code",
      "source": [
        "transforms = transforms.Compose(\n",
        "    [transforms.ToTensor(), transforms.Normalize((0.13,),(0.3,))]\n",
        ")\n",
        "dataset = datasets.MNIST(root = \"dataset/\", transform = transforms, download=True)\n",
        "loader = DataLoader(dataset, batch_size = batch_size, shuffle=True)"
      ],
      "metadata": {
        "id": "mVzkcqu-0nPW"
      },
      "execution_count": 52,
      "outputs": []
    },
    {
      "cell_type": "code",
      "source": [
        "opt_disc = optim.Adam(params = disc.parameters(), lr = lr)\n",
        "opt_gen = optim.Adam(params = gen.parameters(), lr = lr)\n",
        "criterion = nn.BCELoss()\n",
        "writer_FAKE = SummaryWriter(f\"/fake\")\n",
        "writer_REAL = SummaryWriter(f\"/real\")\n",
        "\n",
        "\n"
      ],
      "metadata": {
        "id": "lcq7PKdq1URm"
      },
      "execution_count": 53,
      "outputs": []
    },
    {
      "cell_type": "code",
      "source": [
        "step = 0\n",
        "for epoch in range(10):\n",
        "  for batch_idX, (real, _) in enumerate(loader):\n",
        "    real = real.view(-1,784).to(device)\n",
        "    batch_size = real.shape[0]\n",
        "    if batch_idX == 0 & epoch == 0:\n",
        "      print(f\"batch_size is{batch_size}!!! \")\n",
        "\n",
        "    ## Train Discrimiator\n",
        "\n",
        "    noise = torch.randn(batch_size,z_dim).to(device)\n",
        "    fake = gen(noise)\n",
        "    disc_real = disc(real).view(-1)\n",
        "    loss_real = criterion(disc_real, torch.ones_like(disc_real))\n",
        "    disc_fake = disc(fake).view(-1)\n",
        "    loss_fake = criterion(disc_fake, torch.zeros_like(disc_fake))\n",
        "    loss_avg = (loss_real+loss_fake)/2\n",
        "    disc.zero_grad()\n",
        "    loss_avg.backward(retain_graph=True)\n",
        "    opt_disc.step()\n",
        "\n",
        "    ## Train Generator\n",
        "    output = disc(fake).view(-1)\n",
        "    lossG = criterion(output, torch.ones_like(output))\n",
        "    gen.zero_grad()\n",
        "    lossG.backward()\n",
        "    opt_gen.step()\n",
        "\n",
        "    if batch_idX == 0:\n",
        "      print(\n",
        "          f\"epoch:{epoch}/{num_epochs}\"\n",
        "          f\"LossD: {loss_avg: .4f}, LossG:{lossG:.4f}\")\n",
        "      \n",
        "      with torch.no_grad():\n",
        "        fake = gen(fixed_noise).reshape(-1,1,28,28)\n",
        "        data = real.reshape(-1,1,28,28)\n",
        "        img_grid_fake = torchvision.utils.make_grid(fake, normalize = True)\n",
        "        img_grid_real = torchvision.utils.make_grid(data, normalize = True)\n",
        "        \n",
        "\n",
        "        writer_FAKE.add_image(\n",
        "            \"Minist Fake Image\", img_grid_fake, global_step = step\n",
        "\n",
        "        )\n",
        "        writer_FAKE.add_image(\n",
        "            \"Minist real Image\", img_grid_real, global_step = step\n",
        "            \n",
        "        )\n",
        "        step += 1\n",
        "      \n",
        "\n",
        "\n",
        "\n",
        "\n",
        "\n"
      ],
      "metadata": {
        "colab": {
          "base_uri": "https://localhost:8080/"
        },
        "id": "wjoKHqYz1Wbl",
        "outputId": "63bbab52-26c2-4469-bfdc-e980ac859458"
      },
      "execution_count": 54,
      "outputs": [
        {
          "output_type": "stream",
          "name": "stdout",
          "text": [
            "batch_size is32!!! \n",
            "epoch:0/50LossD:  0.6866, LossG:0.7203\n",
            "batch_size is32!!! \n",
            "epoch:1/50LossD:  0.2906, LossG:2.8460\n",
            "batch_size is32!!! \n",
            "epoch:2/50LossD:  0.1725, LossG:3.0235\n",
            "batch_size is32!!! \n",
            "epoch:3/50LossD:  0.2439, LossG:3.9815\n",
            "batch_size is32!!! \n",
            "epoch:4/50LossD:  0.0992, LossG:3.4520\n",
            "batch_size is32!!! \n",
            "epoch:5/50LossD:  0.0533, LossG:5.7694\n",
            "batch_size is32!!! \n",
            "epoch:6/50LossD:  0.0480, LossG:3.9883\n",
            "batch_size is32!!! \n",
            "epoch:7/50LossD:  0.0218, LossG:5.2959\n",
            "batch_size is32!!! \n",
            "epoch:8/50LossD:  0.0151, LossG:5.0175\n",
            "batch_size is32!!! \n",
            "epoch:9/50LossD:  0.0086, LossG:5.6799\n"
          ]
        }
      ]
    },
    {
      "cell_type": "code",
      "source": [
        "fake = gen(noise)\n",
        "fake[0].size()\n"
      ],
      "metadata": {
        "colab": {
          "base_uri": "https://localhost:8080/"
        },
        "id": "DNnEknpfThZ3",
        "outputId": "5df449b9-82f2-4c09-a5a5-57cedd8fed02"
      },
      "execution_count": 55,
      "outputs": [
        {
          "output_type": "execute_result",
          "data": {
            "text/plain": [
              "torch.Size([784])"
            ]
          },
          "metadata": {},
          "execution_count": 55
        }
      ]
    },
    {
      "cell_type": "code",
      "source": [
        "import matplotlib.pyplot as plt\n",
        "import numpy as np\n",
        "\n",
        "# Assume you have a tensor with shape (9, 28, 28)\n",
        "# Create a 3x3 grid of subplots\n",
        "fig, axs = plt.subplots(3, 3, figsize=(8, 8))\n",
        "fig.subplots_adjust(hspace=0.5, wspace=0.5)\n",
        "\n",
        "# Loop over the tensor and plot each image in a subplot\n",
        "for i in range(9):\n",
        "    # Get the i-th image\n",
        "    img = real[i].cpu().detach().numpy().reshape(28,28)\n",
        "\n",
        "    # Plot the image in the corresponding subplot\n",
        "    ax = axs[i // 3, i % 3]\n",
        "    ax.imshow(img, cmap='gray')\n",
        "    ax.set_title(f\"Image {i}\")\n",
        "    ax.axis('off')\n",
        "\n",
        "# Show the plot\n",
        "plt.show()"
      ],
      "metadata": {
        "colab": {
          "base_uri": "https://localhost:8080/",
          "height": 675
        },
        "id": "8S2WIm3PnGoT",
        "outputId": "1aeb4c0a-f3ae-4be5-e527-ccc8b64558e2"
      },
      "execution_count": 59,
      "outputs": [
        {
          "output_type": "display_data",
          "data": {
            "text/plain": [
              "<Figure size 800x800 with 9 Axes>"
            ],
            "image/png": "[encoded data removed]"
          },
          "metadata": {}
        }
      ]
    },
    {
      "cell_type": "code",
      "source": [
        "import matplotlib.pyplot as plt\n",
        "import numpy as np\n",
        "\n",
        "# Assume you have a tensor with shape (9, 28, 28)\n",
        "# Create a 3x3 grid of subplots\n",
        "fig, axs = plt.subplots(3, 3, figsize=(8, 8))\n",
        "fig.subplots_adjust(hspace=0.5, wspace=0.5)\n",
        "\n",
        "# Loop over the tensor and plot each image in a subplot\n",
        "for i in range(9):\n",
        "    # Get the i-th image\n",
        "    img = fake[i].cpu().detach().numpy().reshape(28,28)\n",
        "\n",
        "    # Plot the image in the corresponding subplot\n",
        "    ax = axs[i // 3, i % 3]\n",
        "    ax.imshow(img, cmap='gray')\n",
        "    ax.set_title(f\"Image {i}\")\n",
        "    ax.axis('off')\n",
        "\n",
        "# Show the plot\n",
        "plt.show()"
      ],
      "metadata": {
        "colab": {
          "base_uri": "https://localhost:8080/",
          "height": 675
        },
        "id": "u7GIT1qDoblx",
        "outputId": "34bc0cef-f594-4991-83c0-c03bf062cb51"
      },
      "execution_count": 58,
      "outputs": [
        {
          "output_type": "display_data",
          "data": {
            "text/plain": [
              "<Figure size 800x800 with 9 Axes>"
            ],
            "image/png": "[encoded data removed]"
          },
          "metadata": {}
        }
      ]
    }
  ]
}